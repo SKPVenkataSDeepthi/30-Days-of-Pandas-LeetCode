{
  "metadata": {
    "kernelspec": {
      "name": "python",
      "display_name": "Python (Pyodide)",
      "language": "python"
    },
    "language_info": {
      "codemirror_mode": {
        "name": "python",
        "version": 3
      },
      "file_extension": ".py",
      "mimetype": "text/x-python",
      "name": "python",
      "nbconvert_exporter": "python",
      "pygments_lexer": "ipython3",
      "version": "3.8"
    }
  },
  "nbformat_minor": 4,
  "nbformat": 4,
  "cells": [
    {
      "cell_type": "code",
      "source": "import pandas as pd\n\ndef find_products(products: pd.DataFrame) -> pd.DataFrame:\n    find_products = products[(products['low_fats'] == 'Y') & (products['recyclable'] == 'Y')]\n    return find_products[['product_id']]",
      "metadata": {
        "trusted": true
      },
      "outputs": [],
      "execution_count": null
    },
    {
      "cell_type": "markdown",
      "source": "# Concepts Learned\nOn Day 2, I revisited and reinforced the concepts I learned on Day 1. I practiced the same filtering and selection techniques using new examples and scenarios to ensure a deeper understanding of:\n\n1. Combining multiple conditions.\n2. Accessing specific columns for filtering.\n3. Returning clean and relevant results.\n",
      "metadata": {}
    },
    {
      "cell_type": "code",
      "source": "",
      "metadata": {
        "trusted": true
      },
      "outputs": [],
      "execution_count": null
    }
  ]
}