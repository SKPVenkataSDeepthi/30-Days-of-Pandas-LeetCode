{
  "metadata": {
    "kernelspec": {
      "name": "python",
      "display_name": "Python (Pyodide)",
      "language": "python"
    },
    "language_info": {
      "codemirror_mode": {
        "name": "python",
        "version": 3
      },
      "file_extension": ".py",
      "mimetype": "text/x-python",
      "name": "python",
      "nbconvert_exporter": "python",
      "pygments_lexer": "ipython3",
      "version": "3.8"
    }
  },
  "nbformat_minor": 4,
  "nbformat": 4,
  "cells": [
    {
      "cell_type": "code",
      "source": "import pandas as pd\n\ndef big_countries(world: pd.DataFrame) -> pd.DataFrame:\n    # Filter for big countries\n    big_countries = world[(world['area'] >= 3000000) | (world['population'] >= 25000000)]\n\n    # Select only the required columns\n    result = big_countries[['name', 'population', 'area']]\n    \n    # Return the result as a DataFrame\n    return result\n",
      "metadata": {
        "trusted": true
      },
      "outputs": [],
      "execution_count": null
    },
    {
      "cell_type": "markdown",
      "source": "# Concepts Learned ",
      "metadata": {}
    },
    {
      "cell_type": "markdown",
      "source": "1. Conditional Filtering:\nI have learnt on how to filter data using conditional statements. Specifically, I have filtered the DataFrame to select countries that have an area of at least 3 million square kilometers or a population of at least 25 million. This was done using the | (OR) operator.\n\n2. Extracting specific columns in a dataframe:\nI have also learnt on how to select specific columns from a DataFrame. After filtering the rows, I have extracted only the name, population, and area columns.\n\n3. This exercise helped me to become familiar with the basic data manipulation capabilities of pandas, such as filtering, selecting, and displaying specific data from a larger dataset, which are essential skills for data analysis.",
      "metadata": {}
    },
    {
      "cell_type": "code",
      "source": "",
      "metadata": {
        "trusted": true
      },
      "outputs": [],
      "execution_count": null
    }
  ]
}