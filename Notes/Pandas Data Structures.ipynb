{
  "metadata": {
    "kernelspec": {
      "name": "python",
      "display_name": "Python (Pyodide)",
      "language": "python"
    },
    "language_info": {
      "codemirror_mode": {
        "name": "python",
        "version": 3
      },
      "file_extension": ".py",
      "mimetype": "text/x-python",
      "name": "python",
      "nbconvert_exporter": "python",
      "pygments_lexer": "ipython3",
      "version": "3.8"
    }
  },
  "nbformat_minor": 4,
  "nbformat": 4,
  "cells": [
    {
      "cell_type": "markdown",
      "source": "## Pandas provides two main data structures to work with data: Series and DataFrame. \n\n# 1. Pandas Series\n* A Series is a one-dimensional labeled array, similar to a list or array, but with additional features such as labeling of the data (index).\n* It can hold any data type (integers, floats, strings, Python objects, etc.).\n* Index: Each value in a Series has an associated label (index). By default, this is a range from 0 to n-1.\n* Values: The actual data stored in the Series.\n",
      "metadata": {}
    },
    {
      "cell_type": "markdown",
      "source": "* Pandas Series and DataFrame are essential data structures for working with tabular data.\n* DataFrame provides extensive functionality for data manipulation, including filtering, grouping, and merging.\n* Series is simpler and useful for one-dimensional data or as a building block within DataFrames.",
      "metadata": {}
    },
    {
      "cell_type": "code",
      "source": "import pandas as pd\n\n# Creating a Series from a list\ndata = [10, 20, 30, 40]\nseries = pd.Series(data)\n\n# Creating a Series with custom index\nindex = ['A', 'B', 'C', 'D']\nseries_custom_index = pd.Series(data, index=index)\n\nprint(series)\nprint(series_custom_index)\n",
      "metadata": {
        "trusted": true
      },
      "outputs": [
        {
          "name": "stdout",
          "text": "0    10\n1    20\n2    30\n3    40\ndtype: int64\nA    10\nB    20\nC    30\nD    40\ndtype: int64\n",
          "output_type": "stream"
        }
      ],
      "execution_count": 2
    },
    {
      "cell_type": "markdown",
      "source": "# 2. Pandas DataFrame\n* A DataFrame is a two-dimensional table, similar to a database table or an Excel spreadsheet, with rows and columns.\n* Each column in a DataFrame is a Series, and each row is identified by an index.\n* Columns: Each column is a Series, and each Series can have different data types.\n* Index: The index identifies the rows. It can be an integer or labels.\n* Data: The values are stored in a tabular format (rows and columns).",
      "metadata": {}
    },
    {
      "cell_type": "code",
      "source": "import pandas as pd\n\n# Creating a DataFrame from a dictionary\ndata = {\n    'student_id': [1, 2, 3, 4],\n    'age': [15, 11, 11, 20]\n}\ndf = pd.DataFrame(data)\n\n# Creating a DataFrame with custom index\nindex = ['A', 'B', 'C', 'D']\ndf_custom_index = pd.DataFrame(data, index=index)\n\nprint(df)\nprint(df_custom_index)\n",
      "metadata": {
        "trusted": true
      },
      "outputs": [
        {
          "name": "stdout",
          "text": "   student_id  age\n0           1   15\n1           2   11\n2           3   11\n3           4   20\n   student_id  age\nA           1   15\nB           2   11\nC           3   11\nD           4   20\n",
          "output_type": "stream"
        }
      ],
      "execution_count": 3
    },
    {
      "cell_type": "code",
      "source": "# Merging and Joining DataFrames\n\n## Merging two DataFrames\ndf1 = pd.DataFrame({'id': [1, 2], 'name': ['Alice', 'Bob']})\ndf2 = pd.DataFrame({'id': [1, 2], 'age': [24, 25]})\n\nmerged_df = pd.merge(df1, df2, on='id')\nprint(merged_df)\n",
      "metadata": {
        "trusted": true
      },
      "outputs": [
        {
          "name": "stdout",
          "text": "   id   name  age\n0   1  Alice   24\n1   2    Bob   25\n",
          "output_type": "stream"
        }
      ],
      "execution_count": 4
    },
    {
      "cell_type": "code",
      "source": "## Concatinating dataframes\n\nconcatenated_df = pd.concat([df1, df2], axis=0)\nconcatenated_df",
      "metadata": {
        "trusted": true
      },
      "outputs": [
        {
          "execution_count": 6,
          "output_type": "execute_result",
          "data": {
            "text/plain": "   id   name   age\n0   1  Alice   NaN\n1   2    Bob   NaN\n0   1    NaN  24.0\n1   2    NaN  25.0",
            "text/html": "<div>\n<style scoped>\n    .dataframe tbody tr th:only-of-type {\n        vertical-align: middle;\n    }\n\n    .dataframe tbody tr th {\n        vertical-align: top;\n    }\n\n    .dataframe thead th {\n        text-align: right;\n    }\n</style>\n<table border=\"1\" class=\"dataframe\">\n  <thead>\n    <tr style=\"text-align: right;\">\n      <th></th>\n      <th>id</th>\n      <th>name</th>\n      <th>age</th>\n    </tr>\n  </thead>\n  <tbody>\n    <tr>\n      <th>0</th>\n      <td>1</td>\n      <td>Alice</td>\n      <td>NaN</td>\n    </tr>\n    <tr>\n      <th>1</th>\n      <td>2</td>\n      <td>Bob</td>\n      <td>NaN</td>\n    </tr>\n    <tr>\n      <th>0</th>\n      <td>1</td>\n      <td>NaN</td>\n      <td>24.0</td>\n    </tr>\n    <tr>\n      <th>1</th>\n      <td>2</td>\n      <td>NaN</td>\n      <td>25.0</td>\n    </tr>\n  </tbody>\n</table>\n</div>"
          },
          "metadata": {}
        }
      ],
      "execution_count": 6
    },
    {
      "cell_type": "code",
      "source": "",
      "metadata": {
        "trusted": true
      },
      "outputs": [],
      "execution_count": null
    }
  ]
}